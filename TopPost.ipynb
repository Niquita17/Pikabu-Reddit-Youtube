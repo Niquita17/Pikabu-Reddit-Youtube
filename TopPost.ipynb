{
 "cells": [
  {
   "cell_type": "code",
   "execution_count": 14,
   "metadata": {},
   "outputs": [
    {
     "name": "stdout",
     "output_type": "stream",
     "text": [
      "Введите количество лайков для поста на Пикабу: 20000\n",
      "Введите количество топ постов с Reddit: 3\n",
      "Введите количество видео из трендов YouTube: 3\n"
     ]
    },
    {
     "name": "stderr",
     "output_type": "stream",
     "text": [
      "[WDM] - Current google-chrome version is 84.0.4147\n",
      "[WDM] - Get LATEST driver version for 84.0.4147\n",
      "[WDM] - Driver [/Users/niquita/.wdm/drivers/chromedriver/mac64/84.0.4147.30/chromedriver] found in cache\n"
     ]
    },
    {
     "name": "stdout",
     "output_type": "stream",
     "text": [
      " \n",
      "Top Post from Pikabu: https://pikabu.ru/story/iz_dnevnika_7590654\n",
      "Top Post from Pikabu: https://pikabu.ru/story/po_puti_7586691\n",
      "Top Post from Reddit: https://www.reddit.com/r/memes/comments/hv0qbj/nro_that_feeling/\n",
      "Top Post from Reddit: https://alb.reddit.com/cr?p=gAAAAABfFysD1PjA5RUOWEusk3yEqy6oVHH8z9DsP8GSG6cmGK_tjikHBZlQWS260hctrLyHAGqnfaTtjvLAEMeT3yOZRWpsWtfKhNwpD7nFm1wQ7dH9RLlEpu2YnmcxaXtbI-dQs1Yh0ZmruazLPUHpsVVlDZfUfVuXcaricbl9X5j3KI4yRa6kBRYbPtByneYey7iBuR5tEEIF-BWo33zwVN2U5FNSTcg4LuOLFFXwEbn3V2mBF4sIiWiZd9A9Ei2567nByzu44ioEQpbqjO34zIqcMwdyMs19qNwW73UERrUJTwk1TLYaEDUXXAdOKgPidixVPfKoiB9uAP6-_teaAlGfozteRjXGYC7RuEb7kaWnmMO_Dp8x260aoL5J2vynE8NEO1ACFbHzQmRpf5gxcKRDkZXVJVYx6xiR6puCiXINKjlck1Rmk8Q5MCZoi_po3QiK4xhrVxKqYPEc3D6HTMBCUP3Hv0eZ_M3QDii-nc5zNRqJcXCqp3S1T0ewytgZSl8AUGCpNWZzvB7cqVKqRR12rvuxJxUNNAxxvvlHKKhE17N9L94srrk7o1g2rFO_eQYqIC7lWTMMjaje9NQU6E_EPYhLPOMZVj5qLGtui5AVipAHIJwsZP9ojJVHx78U5Fe46Zpz_Po7Hy6f-8OBS7vlHfKqKHjrPC6iqf0xZBtPaph7_gczW4YKJylPsWi8ytx9kgmFz9is6B4kvHkprElUzuX2KdCPKPIjqTe8jVYYcIbjOlYxLJDoJ3mCtAWuexCTV9XlvUvh_SE9XR-hKwafvqd495EiB7epTZu1OXNrSn4Q5gIUSnesSTgEFFvYdzaYO6Xb886EUTekBIVviBKME2Q0TbJAJXie2sG6eOZDAr2VginZfUiYptoErf2Y0xJqR9TETTwlLQtG2Ic1qJvfIY1c33D3pYhRjtdg_EsD1ogzvPHq1lEDhhdz4Wd4TmDYxaYdmWZZUbg6adwk8hf_sZQWcvoIdPMSN-oVS_XlCAtDpXuYk1szlixYSB5oYluJRMODVpEcJQ6AbQJM75bsJOIyRIlM_FihfM60OUeH5yyZHsmbqll8Z-yys_5LQiI3A3ymYgg_nNAgemcnN_c_Ovmsyx54-QsTw1v1Fd_3Ce0wsdGRTt2ICnRsiVigPH8GQZ2oU5rSVy1IvcHD79OOvgYxPSVAN92w7MsnR9TRs38wte_Yi7Ui8vtmJB8YfJBIPXw4dJs6JMebUnY3QGqYOiTdas7Q78DGf_2T2XyUpbtxGXFr8zpw7eVcOIq33pOxM_6yPCJmH0N4Fd2seBHRI92wUkp3uuYhDpGag9jQ6A6NlN75V18Q3Ykmk_yB-89KvaO9oKKOdZd3T2AySF9toOG29zpNWNjsbaf0uyLJZUhnRPZornGplcnMXs1RV12uy21Rb-hwEsZiIQZi_eFozFSr9wbmqoXEFIEORiExcAvItIMB84rQpa_o3auPrJY-8eTV-04rRymeQK7Ty6D8k6iAYMtYKMixvW1qiB9pO_RaYAAjblSc4z4hG-3WYSRW0LAzKTW17Q_oqyEMj-8Wg-fg-pg0-7z4frk5LxMPd5rbqGSsRfAgao5dI5X42gskM_YojCEqBfcdqhY2RQDV-ItdbMTI5mOlqwZAKtpHGNMcSrMapCdMKw_SvHsogSfv-aiEkrqtQw4uodSGuqjsBItnlJ1SpTZm_HOOqEgAt-eKZwBcLQLqlJCNqObmHI61oyYgg4wnLXrXa9Z30fFDpvCd1h4Uf3OM7pD0O8K1rIQlpyYJkMWf18hQdYVb4SsHrzAIbuees2Sy4MkOMlL_TqMqzKj9N3UxhZnXP7MY1uDurco=\n",
      "Top Post from Reddit: https://www.reddit.com/r/pics/comments/hurng0/man_driving_his_truck_in_florida/\n",
      "Top video from Youtube: https://www.youtube.com/watch?v=PnfFCeBpoow\n",
      "Top video from Youtube: https://www.youtube.com/watch?v=KK2OXwEke2Y\n",
      "Top video from Youtube: https://www.youtube.com/watch?v=DOx1_vGvDhQ\n"
     ]
    }
   ],
   "source": [
    "from selenium import webdriver\n",
    "from selenium.webdriver.common.keys import Keys\n",
    "from webdriver_manager.chrome import ChromeDriverManager\n",
    "import time\n",
    "\n",
    "pikabu = int(input(\"Введите количество лайков для поста на Пикабу: \"))\n",
    "reddit = int(input(\"Введите количество топ постов с Reddit: \"))\n",
    "youtube = int(input(\"Введите количество видео из трендов YouTube: \"))\n",
    "\n",
    "driver = webdriver.Chrome(ChromeDriverManager().install())\n",
    "driver.get(\"https://pikabu.ru\")\n",
    "\n",
    "SCROLL_PAUSE_TIME = 0.5\n",
    "\n",
    "last_height = driver.execute_script(\"return document.body.scrollHeight\")\n",
    "\n",
    "while True:\n",
    "    driver.execute_script(\"window.scrollTo(0, document.body.scrollHeight);\")\n",
    "\n",
    "    time.sleep(SCROLL_PAUSE_TIME)\n",
    "\n",
    "    new_height = driver.execute_script(\"return document.body.scrollHeight\")\n",
    "    if new_height == last_height:\n",
    "        break\n",
    "    last_height = new_height\n",
    "    \n",
    "pikabu_urls = []\n",
    "postpikabu = driver.find_elements_by_xpath(\"//h2[@class='story__title']//a\")\n",
    "for i in postpikabu:\n",
    "    ref_p = i.get_attribute('href')\n",
    "    url_p = {\n",
    "        'href': ref_p\n",
    "    }\n",
    "    pikabu_urls.append(url_p)\n",
    "for j in pikabu_urls:\n",
    "    driver.get(j['href'])\n",
    "    pikabulikes = driver.find_elements_by_xpath(\"//div[@class='page-story__story']//article\")\n",
    "    for e in pikabulikes:\n",
    "        post_rating = int(e.get_attribute('data-rating') or 0)\n",
    "        if post_rating > pikabu:\n",
    "            print(\"Top Post from Pikabu:\", j['href'])\n",
    "            \n",
    "driver.get(\"https://www.reddit.com/top/\")\n",
    "\n",
    "SCROLL_PAUSE_TIME = 0.01\n",
    "\n",
    "last_height = driver.execute_script(\"return document.body.scrollHeight\")\n",
    "\n",
    "while True:\n",
    "    driver.execute_script(\"window.scrollTo(0, document.body.scrollHeight);\")\n",
    "\n",
    "    time.sleep(SCROLL_PAUSE_TIME)\n",
    "\n",
    "    new_height = driver.execute_script(\"return document.body.scrollHeight\")\n",
    "    if new_height == last_height:\n",
    "        break\n",
    "    last_height = new_height\n",
    "    \n",
    "reddit_urls = []\n",
    "postreddit = driver.find_elements_by_xpath(\"//div[@class='y8HYJ-y_lTUHkQIc1mdCq _2INHSNB8V5eaWp4P0rY_mE']//a\")\n",
    "for i in postreddit:\n",
    "    ref_r = i.get_attribute('href')\n",
    "    reddit_urls.append(ref_r)\n",
    "for j in reddit_urls[:reddit]:\n",
    "    print(\"Top Post from Reddit:\", j)\n",
    "\n",
    "driver.get(\"https://www.youtube.com/feed/trending\")\n",
    "\n",
    "youtube_urls = []\n",
    "video = driver.find_elements_by_xpath(\"//h3[@class='title-and-badge style-scope ytd-video-renderer']//a\")\n",
    "for i in video:\n",
    "    ref_y = i.get_attribute('href')\n",
    "    youtube_urls.append(ref_y)\n",
    "for j in youtube_urls[:youtube]:\n",
    "    print('Top video from Youtube:', j)\n",
    "\n",
    "driver.quit()"
   ]
  },
  {
   "cell_type": "code",
   "execution_count": null,
   "metadata": {},
   "outputs": [],
   "source": []
  },
  {
   "cell_type": "code",
   "execution_count": null,
   "metadata": {},
   "outputs": [],
   "source": []
  }
 ],
 "metadata": {
  "kernelspec": {
   "display_name": "Python 3",
   "language": "python",
   "name": "python3"
  },
  "language_info": {
   "codemirror_mode": {
    "name": "ipython",
    "version": 3
   },
   "file_extension": ".py",
   "mimetype": "text/x-python",
   "name": "python",
   "nbconvert_exporter": "python",
   "pygments_lexer": "ipython3",
   "version": "3.7.4"
  }
 },
 "nbformat": 4,
 "nbformat_minor": 2
}
